{
 "cells": [
  {
   "cell_type": "markdown",
   "id": "848b2c38-274a-40b0-959f-7ef59e72a984",
   "metadata": {},
   "source": [
    "## Ejercicio"
   ]
  },
  {
   "cell_type": "markdown",
   "id": "bac64b98-e4a6-4c87-9b1e-1a7ddd3fca6e",
   "metadata": {},
   "source": [
    "Escoger una medida de distancias para variables cuantitativas (distinta de la distancia euclídea) y dos coeficientes de similaridad para variables binarias y cualitativas y construir un nuevo coeficiente de similaridad para datos mixtos, siguiendo la idea del coeficiente de similaridad de Gower. Escribir una función en matlab, que dada una matriz de datos $\\mathbf{X}$, $n \\times p$, devuelva la matriz de distancias según este nuevo coeficiente.\n",
    "\n",
    "Medida de distancias para variables numéricas:\n",
    "- Variables cuantitativas: distancia de mahalanobis\n",
    "\n",
    "Coeficientes de similaridad:\n",
    "- Variables Binarias: $S_{13}$\n",
    "- Variabes Cualitativas: $SC_4$\n",
    "\n",
    "Pasaremos las similaridades a distancias:\n",
    "$$\n",
    "\\delta_{ij} = \\sqrt{1-s_{ij}}\n",
    "$$"
   ]
  },
  {
   "cell_type": "markdown",
   "id": "4067b61a-911d-43b9-9d1a-217d85beca98",
   "metadata": {},
   "source": [
    "$$\n",
    "s_{ij} = \\frac{ (1-(\\mathbf{x}_i - \\mathbf{x}_j)' \\mathbf{S}^{-1} (\\mathbf{x}_i - \\mathbf{x}_j))}{p_1}\n",
    "$$"
   ]
  },
  {
   "cell_type": "code",
   "execution_count": null,
   "id": "70f50a84-cae4-46b3-8b9d-6fc8c7d24f3a",
   "metadata": {},
   "outputs": [],
   "source": []
  }
 ],
 "metadata": {
  "kernelspec": {
   "display_name": "Matlab",
   "language": "matlab",
   "name": "matlab"
  },
  "language_info": {
   "codemirror_mode": "octave",
   "file_extension": ".m",
   "help_links": [
    {
     "text": "MetaKernel Magics",
     "url": "https://metakernel.readthedocs.io/en/latest/source/README.html"
    }
   ],
   "mimetype": "text/x-octave",
   "name": "matlab",
   "version": "0.16.11"
  }
 },
 "nbformat": 4,
 "nbformat_minor": 5
}
